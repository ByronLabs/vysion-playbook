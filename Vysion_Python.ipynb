{
  "cells": [
    {
      "cell_type": "markdown",
      "metadata": {
        "id": "F0E3uoZWNqNK"
      },
      "source": [
        "# Vysion Python Client Tutorial and examples"
      ]
    },
    {
      "cell_type": "code",
      "execution_count": null,
      "metadata": {
        "colab": {
          "base_uri": "https://localhost:8080/"
        },
        "id": "z9ZgTYX2CZC8",
        "outputId": "8f3824e9-7d9d-4ddf-e081-4a01bc2f277d"
      },
      "outputs": [
        {
          "name": "stdout",
          "output_type": "stream",
          "text": [
            "Collecting vysion\n",
            "  Downloading vysion-1.0.6-py3-none-any.whl (29 kB)\n",
            "Collecting pydantic==1.10.3 (from vysion)\n",
            "  Downloading pydantic-1.10.3-cp310-cp310-manylinux_2_17_x86_64.manylinux2014_x86_64.whl (3.1 MB)\n",
            "\u001b[2K     \u001b[90m━━━━━━━━━━━━━━━━━━━━━━━━━━━━━━━━━━━━━━━━\u001b[0m \u001b[32m3.1/3.1 MB\u001b[0m \u001b[31m7.1 MB/s\u001b[0m eta \u001b[36m0:00:00\u001b[0m\n",
            "\u001b[?25hCollecting pymisp==2.4.159 (from vysion)\n",
            "  Downloading pymisp-2.4.159-py3-none-any.whl (511 kB)\n",
            "\u001b[2K     \u001b[90m━━━━━━━━━━━━━━━━━━━━━━━━━━━━━━━━━━━━━━\u001b[0m \u001b[32m511.8/511.8 kB\u001b[0m \u001b[31m25.4 MB/s\u001b[0m eta \u001b[36m0:00:00\u001b[0m\n",
            "\u001b[?25hCollecting requests<3.0.0,>=2.28.1 (from vysion)\n",
            "  Downloading requests-2.31.0-py3-none-any.whl (62 kB)\n",
            "\u001b[2K     \u001b[90m━━━━━━━━━━━━━━━━━━━━━━━━━━━━━━━━━━━━━━━━\u001b[0m \u001b[32m62.6/62.6 kB\u001b[0m \u001b[31m3.4 MB/s\u001b[0m eta \u001b[36m0:00:00\u001b[0m\n",
            "\u001b[?25hCollecting softenum==1.0.1 (from vysion)\n",
            "  Downloading softenum-1.0.1-py3-none-any.whl (2.3 kB)\n",
            "Requirement already satisfied: typing-extensions>=4.1.0 in /usr/local/lib/python3.10/dist-packages (from pydantic==1.10.3->vysion) (4.7.1)\n",
            "Collecting deprecated<2.0.0,>=1.2.13 (from pymisp==2.4.159->vysion)\n",
            "  Downloading Deprecated-1.2.14-py2.py3-none-any.whl (9.6 kB)\n",
            "Collecting jsonschema<5.0.0,>=4.5.1 (from pymisp==2.4.159->vysion)\n",
            "  Downloading jsonschema-4.19.0-py3-none-any.whl (83 kB)\n",
            "\u001b[2K     \u001b[90m━━━━━━━━━━━━━━━━━━━━━━━━━━━━━━━━━━━━━━━━\u001b[0m \u001b[32m83.4/83.4 kB\u001b[0m \u001b[31m4.4 MB/s\u001b[0m eta \u001b[36m0:00:00\u001b[0m\n",
            "\u001b[?25hRequirement already satisfied: python-dateutil<3.0.0,>=2.8.2 in /usr/local/lib/python3.10/dist-packages (from pymisp==2.4.159->vysion) (2.8.2)\n",
            "Requirement already satisfied: charset-normalizer<4,>=2 in /usr/local/lib/python3.10/dist-packages (from requests<3.0.0,>=2.28.1->vysion) (2.0.12)\n",
            "Requirement already satisfied: idna<4,>=2.5 in /usr/local/lib/python3.10/dist-packages (from requests<3.0.0,>=2.28.1->vysion) (3.4)\n",
            "Requirement already satisfied: urllib3<3,>=1.21.1 in /usr/local/lib/python3.10/dist-packages (from requests<3.0.0,>=2.28.1->vysion) (1.26.16)\n",
            "Requirement already satisfied: certifi>=2017.4.17 in /usr/local/lib/python3.10/dist-packages (from requests<3.0.0,>=2.28.1->vysion) (2023.7.22)\n",
            "Requirement already satisfied: wrapt<2,>=1.10 in /usr/local/lib/python3.10/dist-packages (from deprecated<2.0.0,>=1.2.13->pymisp==2.4.159->vysion) (1.14.1)\n",
            "Requirement already satisfied: attrs>=22.2.0 in /usr/local/lib/python3.10/dist-packages (from jsonschema<5.0.0,>=4.5.1->pymisp==2.4.159->vysion) (23.1.0)\n",
            "Collecting jsonschema-specifications>=2023.03.6 (from jsonschema<5.0.0,>=4.5.1->pymisp==2.4.159->vysion)\n",
            "  Downloading jsonschema_specifications-2023.7.1-py3-none-any.whl (17 kB)\n",
            "Collecting referencing>=0.28.4 (from jsonschema<5.0.0,>=4.5.1->pymisp==2.4.159->vysion)\n",
            "  Downloading referencing-0.30.2-py3-none-any.whl (25 kB)\n",
            "Collecting rpds-py>=0.7.1 (from jsonschema<5.0.0,>=4.5.1->pymisp==2.4.159->vysion)\n",
            "  Downloading rpds_py-0.9.2-cp310-cp310-manylinux_2_17_x86_64.manylinux2014_x86_64.whl (1.2 MB)\n",
            "\u001b[2K     \u001b[90m━━━━━━━━━━━━━━━━━━━━━━━━━━━━━━━━━━━━━━━━\u001b[0m \u001b[32m1.2/1.2 MB\u001b[0m \u001b[31m17.8 MB/s\u001b[0m eta \u001b[36m0:00:00\u001b[0m\n",
            "\u001b[?25hRequirement already satisfied: six>=1.5 in /usr/local/lib/python3.10/dist-packages (from python-dateutil<3.0.0,>=2.8.2->pymisp==2.4.159->vysion) (1.16.0)\n",
            "\u001b[33mWARNING: The candidate selected for download or install is a yanked version: 'pydantic' candidate (version 1.10.3 at https://files.pythonhosted.org/packages/a4/f9/cc7c26854c874dad5931e201adafc7e5ea356b0e230eb7143259ccd0db27/pydantic-1.10.3-cp310-cp310-manylinux_2_17_x86_64.manylinux2014_x86_64.whl (from https://pypi.org/simple/pydantic/) (requires-python:>=3.7))\n",
            "Reason for being yanked: See https://github.com/pydantic/pydantic/issues/4885\u001b[0m\u001b[33m\n",
            "\u001b[0mInstalling collected packages: softenum, rpds-py, requests, pydantic, deprecated, referencing, jsonschema-specifications, jsonschema, pymisp, vysion\n",
            "  Attempting uninstall: requests\n",
            "    Found existing installation: requests 2.27.1\n",
            "    Uninstalling requests-2.27.1:\n",
            "      Successfully uninstalled requests-2.27.1\n",
            "  Attempting uninstall: pydantic\n",
            "    Found existing installation: pydantic 1.10.12\n",
            "    Uninstalling pydantic-1.10.12:\n",
            "      Successfully uninstalled pydantic-1.10.12\n",
            "  Attempting uninstall: jsonschema\n",
            "    Found existing installation: jsonschema 4.3.3\n",
            "    Uninstalling jsonschema-4.3.3:\n",
            "      Successfully uninstalled jsonschema-4.3.3\n",
            "\u001b[31mERROR: pip's dependency resolver does not currently take into account all the packages that are installed. This behaviour is the source of the following dependency conflicts.\n",
            "google-colab 1.0.0 requires requests==2.27.1, but you have requests 2.31.0 which is incompatible.\u001b[0m\u001b[31m\n",
            "\u001b[0mSuccessfully installed deprecated-1.2.14 jsonschema-4.19.0 jsonschema-specifications-2023.7.1 pydantic-1.10.3 pymisp-2.4.159 referencing-0.30.2 requests-2.31.0 rpds-py-0.9.2 softenum-1.0.1 vysion-1.0.6\n"
          ]
        }
      ],
      "source": [
        "pip install --upgrade vysion"
      ]
    },
    {
      "cell_type": "markdown",
      "metadata": {
        "id": "wsRXqHTYDdPX"
      },
      "source": [
        "### Set API KEY"
      ]
    },
    {
      "cell_type": "code",
      "execution_count": null,
      "metadata": {
        "id": "vask9U2ECpET"
      },
      "outputs": [],
      "source": [
        "from vysion import client\n",
        "\n",
        "c = client.Client(api_key=\"API_KEY\")"
      ]
    },
    {
      "cell_type": "markdown",
      "metadata": {
        "id": "D_jjan_fDvKL"
      },
      "source": [
        "# Search\n",
        "You can search for any text, including domains"
      ]
    },
    {
      "cell_type": "code",
      "execution_count": null,
      "metadata": {
        "colab": {
          "base_uri": "https://localhost:8080/"
        },
        "id": "c4vvntrCDlPl",
        "outputId": "6c1f70aa-127f-456e-a23b-09b4c7c11ca1"
      },
      "outputs": [
        {
          "name": "stdout",
          "output_type": "stream",
          "text": [
            "63e471bfea718bf4556d0607\n",
            "LockBit BLOG\n",
            "protocol='http' domain='lockbitapt5x4zkjbcqmz6frdhecqqgadevyiwqxukksspnlidyvd7qd.onion' port=80 path='/post/LOxRvo4KQN1y67pZ63e0c24b48635' signature='e74b26d0-33f5-54ca-8141-4f65d7645df9' network=<Network.tor: 'tor'>\n",
            "2023-02-09 04:03:42\n"
          ]
        }
      ],
      "source": [
        "result = c.search(\"phihong.com.tw\")\n",
        "\n",
        "for hit in result.hits:\n",
        "    print(hit.page.id)\n",
        "    print(hit.page.title)\n",
        "    print(hit.page.url)\n",
        "    print(hit.page.date)"
      ]
    },
    {
      "cell_type": "code",
      "execution_count": null,
      "metadata": {
        "colab": {
          "base_uri": "https://localhost:8080/"
        },
        "id": "ajFp6c_IaWpi",
        "outputId": "41ebc889-2704-45d6-af80-cabb4ce7ea3b"
      },
      "outputs": [
        {
          "name": "stdout",
          "output_type": "stream",
          "text": [
            "total=432 hits=[Hit(page=Page(id='64c6b2de3f9cb0e85e79d6c6', url=URL(protocol='http', domain='jieq75a6uwqbj5sjzaxlnd7xwgs35audjmkk4g3gfjwosfrz7cp47xid.onion', port=80, path='/pn/index.html', signature='a3b69bca-85eb-5c87-83a6-715bcb9e9535', network=<Network.tor: 'tor'>), parent='2950d4bc-3104-5ced-8af7-ac6395a67e48', title='/pn/ - Política Nacional - Página 1', language=<Language.portuguese: 'pt'>, html='v=4f2b5983&amp;ct=grid\"></script><title>/pn/ - Política <b>Nacional</b> - Página 1</title></head><body id=\"top', sha1sum='f462f6316540748d6694c673e606fe89af2afc2c', sha256sum=None, ssdeep='3072:jjrphBIKCwBcWXzXSfMRMt7/M1YX/EKsiDaF0NcJwaJ7swMFKnFeapZ8W0lmu4fX:jj1LIKCwBcWXzXSfMRMt7/M1YX/EKsim', date=datetime.datetime(2023, 7, 30, 18, 58, 38, 730000), chunk=True), tag=[Tag<dark-web:topic:\"extremism\">], email=[], paste=[], skype=[], telegram=[], whatsapp=[], bitcoin_address=[], polkadot_address=[], ethereum_address=[], monero_address=[], ripple_address=[], zcash_address=[]), Hit(page=Page(id='63eb6706bfd4967dcbb88d55', url=URL(protocol='http', domain='tdx37ew3oke5rxn3yi5r5665ka7ozvehnd4xmnjxxdvqorias2nyl4qd.onion', port=80, path='/wiki/Guatemalan_genocide?lang=en', signature='37939984-96b0-55d2-8bb8-712be8bb1c02', network=<Network.tor: 'tor'>), parent='8631faf4-d4bc-53ad-ab15-74db6ed417c7', title='Guatemalan genocide - Wikipedia', language=<Language.english: 'en'>, html='lang=en\" title=\"<b>Policia</b> Militar Ambulante\">Mobile Military Police</a> of Monteros, Esquipulas, acting', sha1sum='39906d89fd873448ac11a8c43e8f980ebe1cef5b', sha256sum=None, ssdeep='6144:RyDf3yXtvUfn/5nalupNLzmEBFdYZXEYCQ2fvTlmNW:8OvG5nalupNLzmEBFdYtEYCQ2fvTlz', date=datetime.datetime(2023, 2, 14, 10, 48, 38, 713000), chunk=True), tag=[Tag<dark-web:topic:\"extremism\">], email=[], paste=[], skype=[], telegram=[], whatsapp=[], bitcoin_address=[], polkadot_address=[], ethereum_address=[], monero_address=[], ripple_address=[], zcash_address=[]), Hit(page=Page(id='63e9423bbfd4967dcbb319cc', url=URL(protocol='http', domain='rchanqqfochp5jj6cxswzvyzh764r4xr47n3shz3ezhbqpedqgidsyad.onion', port=80, path='/1500/7.html', signature='333e4edb-38a6-5333-b932-201d85320a25', network=<Network.tor: 'tor'>), parent='e0b38cc5-dd54-5840-b89b-fb9ea16835cf', title='/1500/ - Moderação 1500chan - page 7', language=<Language.portuguese: 'pt'>, html='Não entendo esse controle de danos do Negro, não é como se o chan tivesse saído no jornal <b>nacional</b>.', sha1sum='7f92705c1aad12b881f6d052dfcf56092d1b3990', sha256sum=None, ssdeep='1536:o0lr3WbnYMWlJb4G3iK9jYbZZmtwALhuJMm:HaE4GScgHmrm', date=datetime.datetime(2023, 2, 12, 19, 47, 7, 202000), chunk=True), tag=[Tag<dark-web:topic:\"extremism\">], email=[], paste=[], skype=[], telegram=[], whatsapp=[], bitcoin_address=[], polkadot_address=[], ethereum_address=[], monero_address=[], ripple_address=[], zcash_address=[]), Hit(page=Page(id='63e93c63bfd4967dcbb30817', url=URL(protocol='http', domain='rchanqqfochp5jj6cxswzvyzh764r4xr47n3shz3ezhbqpedqgidsyad.onion', port=80, path='/vida/catalog.html', signature='be2fb79e-97ce-5b1a-9264-1f85381a361c', network=<Network.tor: 'tor'>), parent='bfd994c6-6399-5151-a2dc-c4e516c4cce0', title='/vida/ - Catálogo', language=<Language.portuguese: 'pt'>, html='negros que espancam brancos so por serem brancos que a midia nn mostra e a questao de criminalizar a <b>policia</b>', sha1sum='8ee39c443b89ddaa22b6b5d2535602d69dab64df', sha256sum=None, ssdeep='1536:EJFiKmUbUldv/sciUHU1HFKq1OhQNhb1e8+4A40NiqQnzFQDkm:hgei5Kq1OhQTA43qQnzFQDkm', date=datetime.datetime(2023, 2, 12, 19, 22, 11, 761000), chunk=True), tag=[Tag<dark-web:topic:\"softwares\">], email=[], paste=[], skype=[], telegram=[], whatsapp=[], bitcoin_address=[], polkadot_address=[], ethereum_address=[], monero_address=[], ripple_address=[], zcash_address=[]), Hit(page=Page(id='63cc494a27c07c9d0a8caab7', url=URL(protocol='http', domain='vernchoyi4qjf6sz5vi57sskoelw5lsf53u62i5uvktzpa6sxv3a.b32.i2p', port=80, path='/user/Communist-famine', signature='50753064-cfa8-5f7a-822d-d06b1106f46e', network=<Network.i2p: 'i2p'>), parent='a334ca9e-0740-56a5-b547-000555284246', title='Communist-famine (u/Communist-famine) - Libreddit', language=<Language.spanish: 'es'>, html='span>\\n\\t\\t\\t\\t\\t</summary>\\n\\t\\t\\t\\t\\t<p class=\"comment_body\"><div class=\"md\"><p>Es el delincuente que va a la <b>policia</b>', sha1sum='ff4280ab140183ecf2e709f54db52a6a73413a7e', sha256sum=None, ssdeep='384:rr/lPLVYpd/qmbQh+WV+sw5+WxTmWexjURoJUBxw6+tpQ++mh+UZWAsU+lq0l4ec:dPaLze23mfd6InTbh', date=datetime.datetime(2023, 1, 21, 20, 21, 30, 843000), chunk=True), tag=[Tag<dark-web:topic:\"finance-crypto\">], email=[], paste=[], skype=[], telegram=[], whatsapp=[], bitcoin_address=[], polkadot_address=[], ethereum_address=[], monero_address=[], ripple_address=[], zcash_address=[]), Hit(page=Page(id='63ad07aa7f91aea414623950', url=URL(protocol='http', domain='lockbit7z4bsm63m3dagp5xglyacr4z4bwytkvkkwtn6enmuo5fi5iyd.onion', port=80, path='/jps.cr/1TL5C.zip-file-tree.txt', signature='f306292d-6098-540e-bde7-490d01308bcd', network=<Network.tor: 'tor'>), parent='4a1a31a9-3ed6-5241-8c73-18ca7235ffd7', title='', language=<Language.spanish: 'es'>, html='iii mbito administracin pblica (externo)/ministerio de seguridad publica/jps-gg-gds-acs-422-2019 msp <b>policia</b>', sha1sum='4d561faead2bd0e7d4bd07a3674432f9a1032902', sha256sum=None, ssdeep='6144:X52cZEYl7SAdaj1wgQ2tNSCv0aWtJRaNxOTLW5uqoJxGxE4z/TVH6/6ekIbT4piy:XSmGb+ulliJ6/fLD+VmUHuF', date=datetime.datetime(2022, 12, 29, 3, 21, 14, 672000), chunk=True), tag=[Tag<dark-web:topic:\"extremism\">], email=[Email(value='mrojas@pjs.go.cr')], paste=[], skype=[], telegram=[], whatsapp=[], bitcoin_address=[], polkadot_address=[], ethereum_address=[], monero_address=[], ripple_address=[], zcash_address=[]), Hit(page=Page(id='63acf4027f91aea4146208c1', url=URL(protocol='http', domain='lockbit7z4bsm63m3dagp5xglyacr4z4bwytkvkkwtn6enmuo5fi5iyd.onion', port=80, path='/luzeirosfortaleza.com.br/XUH8A.zip-file-tree.txt', signature='35863b55-b691-57a7-98d4-7c530ebde0ff', network=<Network.tor: 'tor'>), parent='e2765afd-ca87-5e24-9033-ba9b48b21080', title='', language=<Language.portuguese: 'pt'>, html='Luzeiros-ad3/E/Docs/Almoxarifado/Almoxarifado/LUZEIROS SO LUIS/soraia/arquivo compras/eventos/evento <b>policia</b>', sha1sum='b55484fde392c3da363724a25dd8e3296fdb23ce', sha256sum=None, ssdeep='49152:9rHawg+tFkdjY9wWMzq8Ctxty0aOWdmY6pPAJiO/Vukr5VwvHCQL01trtQihSlBg:6', date=datetime.datetime(2022, 12, 29, 1, 57, 22, 388000), chunk=True), tag=[Tag<:content-category:\"pornography\">], email=[], paste=[], skype=[], telegram=[], whatsapp=[], bitcoin_address=[], polkadot_address=[], ethereum_address=[], monero_address=[], ripple_address=[], zcash_address=[]), Hit(page=Page(id='63acf3b92a24880899d59744', url=URL(protocol='http', domain='lockbit7z4bsm63m3dagp5xglyacr4z4bwytkvkkwtn6enmuo5fi5iyd.onion', port=80, path='/ascotlloyd.co.uk/KFWRC.zip-file-tree.txt', signature='67267c78-359c-5305-8061-6b4fab3e1b12', network=<Network.tor: 'tor'>), parent='2b0b4dc1-3aad-54c9-bedc-2832aa219457', title='', language=<Language.spanish: 'es'>, html='02:25   KFWRC/gva-atencia.es/datos01/F/GVA-ATENCIA/bankia/bastanteos hechos/2010/febrero/asociacion <b>nacional</b>', sha1sum='364610cbbf729fb276989955ace6acb89fe728ed', sha256sum=None, ssdeep='6144:4GFKhm+4uh+3DT5oufZwMSTbWSz9LwYLJSE5c31mstuhWT+QnUCghyA30I41/rUm:Fuh+uufZwMWwYLJSE5c3ghYq5zQ', date=datetime.datetime(2022, 12, 29, 1, 56, 9, 690000), chunk=True), tag=[Tag<dark-web:topic:\"hacking\">], email=[Email(value='e-not@rio.doc')], paste=[], skype=[], telegram=[], whatsapp=[], bitcoin_address=[], polkadot_address=[], ethereum_address=[], monero_address=[], ripple_address=[], zcash_address=[]), Hit(page=Page(id='63aced882a24880899d58555', url=URL(protocol='http', domain='lockbit7z4bsm63m3dagp5xglyacr4z4bwytkvkkwtn6enmuo5fi5iyd.onion', port=80, path='/jps.cr/1TL5C.zip-file-tree.txt', signature='f306292d-6098-540e-bde7-490d01308bcd', network=<Network.tor: 'tor'>), parent='4a1a31a9-3ed6-5241-8c73-18ca7235ffd7', title='', language=<Language.spanish: 'es'>, html='iii mbito administracin pblica (externo)/ministerio de seguridad publica/jps-gg-gds-acs-422-2019 msp <b>policia</b>', sha1sum='4d561faead2bd0e7d4bd07a3674432f9a1032902', sha256sum=None, ssdeep='6144:X52cZEYl7SAdaj1wgQ2tNSCv0aWtJRaNxOTLW5uqoJxGxE4z/TVH6/6ekIbT4piy:XSmGb+ulliJ6/fLD+VmUHuF', date=datetime.datetime(2022, 12, 29, 1, 29, 44, 652000), chunk=True), tag=[Tag<dark-web:topic:\"extremism\">], email=[Email(value='mrojas@pjs.go.cr')], paste=[], skype=[], telegram=[], whatsapp=[], bitcoin_address=[], polkadot_address=[], ethereum_address=[], monero_address=[], ripple_address=[], zcash_address=[]), Hit(page=Page(id='6393eb4f2a248808995de1a0', url=URL(protocol='http', domain='lockbit7z4bsm63m3dagp5xglyacr4z4bwytkvkkwtn6enmuo5fi5iyd.onion', port=80, path='/hotelluzeiros.fla.br/XUH8A.zip-file-tree.txt', signature='a38c6b3c-b80c-552c-afdf-5e1230767811', network=<Network.tor: 'tor'>), parent='14c60f51-238b-5afa-aab4-f496c564dd8e', title='', language=<Language.portuguese: 'pt'>, html='Luzeiros-ad3/E/Docs/Almoxarifado/Almoxarifado/LUZEIROS SO LUIS/soraia/arquivo compras/eventos/evento <b>policia</b>', sha1sum='b55484fde392c3da363724a25dd8e3296fdb23ce', sha256sum=None, ssdeep='49152:9rHawg+tFkdjY9wWMzq8Ctxty0aOWdmY6pPAJiO/Vukr5VwvHCQL01trtQihSlBg:6', date=datetime.datetime(2022, 12, 10, 2, 13, 35, 934000), chunk=True), tag=[Tag<:content-category:\"pornography\">], email=[], paste=[], skype=[], telegram=[], whatsapp=[], bitcoin_address=[], polkadot_address=[], ethereum_address=[], monero_address=[], ripple_address=[], zcash_address=[])]\n",
            "64c6b2de3f9cb0e85e79d6c6\n",
            "/pn/ - Política Nacional - Página 1\n",
            "protocol='http' domain='jieq75a6uwqbj5sjzaxlnd7xwgs35audjmkk4g3gfjwosfrz7cp47xid.onion' port=80 path='/pn/index.html' signature='a3b69bca-85eb-5c87-83a6-715bcb9e9535' network=<Network.tor: 'tor'>\n",
            "2023-07-30 18:58:38.730000\n",
            "63eb6706bfd4967dcbb88d55\n",
            "Guatemalan genocide - Wikipedia\n",
            "protocol='http' domain='tdx37ew3oke5rxn3yi5r5665ka7ozvehnd4xmnjxxdvqorias2nyl4qd.onion' port=80 path='/wiki/Guatemalan_genocide?lang=en' signature='37939984-96b0-55d2-8bb8-712be8bb1c02' network=<Network.tor: 'tor'>\n",
            "2023-02-14 10:48:38.713000\n",
            "63e9423bbfd4967dcbb319cc\n",
            "/1500/ - Moderação 1500chan - page 7\n",
            "protocol='http' domain='rchanqqfochp5jj6cxswzvyzh764r4xr47n3shz3ezhbqpedqgidsyad.onion' port=80 path='/1500/7.html' signature='333e4edb-38a6-5333-b932-201d85320a25' network=<Network.tor: 'tor'>\n",
            "2023-02-12 19:47:07.202000\n",
            "63e93c63bfd4967dcbb30817\n",
            "/vida/ - Catálogo\n",
            "protocol='http' domain='rchanqqfochp5jj6cxswzvyzh764r4xr47n3shz3ezhbqpedqgidsyad.onion' port=80 path='/vida/catalog.html' signature='be2fb79e-97ce-5b1a-9264-1f85381a361c' network=<Network.tor: 'tor'>\n",
            "2023-02-12 19:22:11.761000\n",
            "63cc494a27c07c9d0a8caab7\n",
            "Communist-famine (u/Communist-famine) - Libreddit\n",
            "protocol='http' domain='vernchoyi4qjf6sz5vi57sskoelw5lsf53u62i5uvktzpa6sxv3a.b32.i2p' port=80 path='/user/Communist-famine' signature='50753064-cfa8-5f7a-822d-d06b1106f46e' network=<Network.i2p: 'i2p'>\n",
            "2023-01-21 20:21:30.843000\n",
            "63ad07aa7f91aea414623950\n",
            "\n",
            "protocol='http' domain='lockbit7z4bsm63m3dagp5xglyacr4z4bwytkvkkwtn6enmuo5fi5iyd.onion' port=80 path='/jps.cr/1TL5C.zip-file-tree.txt' signature='f306292d-6098-540e-bde7-490d01308bcd' network=<Network.tor: 'tor'>\n",
            "2022-12-29 03:21:14.672000\n",
            "63acf4027f91aea4146208c1\n",
            "\n",
            "protocol='http' domain='lockbit7z4bsm63m3dagp5xglyacr4z4bwytkvkkwtn6enmuo5fi5iyd.onion' port=80 path='/luzeirosfortaleza.com.br/XUH8A.zip-file-tree.txt' signature='35863b55-b691-57a7-98d4-7c530ebde0ff' network=<Network.tor: 'tor'>\n",
            "2022-12-29 01:57:22.388000\n",
            "63acf3b92a24880899d59744\n",
            "\n",
            "protocol='http' domain='lockbit7z4bsm63m3dagp5xglyacr4z4bwytkvkkwtn6enmuo5fi5iyd.onion' port=80 path='/ascotlloyd.co.uk/KFWRC.zip-file-tree.txt' signature='67267c78-359c-5305-8061-6b4fab3e1b12' network=<Network.tor: 'tor'>\n",
            "2022-12-29 01:56:09.690000\n",
            "63aced882a24880899d58555\n",
            "\n",
            "protocol='http' domain='lockbit7z4bsm63m3dagp5xglyacr4z4bwytkvkkwtn6enmuo5fi5iyd.onion' port=80 path='/jps.cr/1TL5C.zip-file-tree.txt' signature='f306292d-6098-540e-bde7-490d01308bcd' network=<Network.tor: 'tor'>\n",
            "2022-12-29 01:29:44.652000\n",
            "6393eb4f2a248808995de1a0\n",
            "\n",
            "protocol='http' domain='lockbit7z4bsm63m3dagp5xglyacr4z4bwytkvkkwtn6enmuo5fi5iyd.onion' port=80 path='/hotelluzeiros.fla.br/XUH8A.zip-file-tree.txt' signature='a38c6b3c-b80c-552c-afdf-5e1230767811' network=<Network.tor: 'tor'>\n",
            "2022-12-10 02:13:35.934000\n"
          ]
        }
      ],
      "source": [
        "result = c.search(\"policia nacional\")\n",
        "\n",
        "print(result)\n",
        "\n",
        "for hit in result.hits:\n",
        "    print(hit.page.id)\n",
        "    print(hit.page.title)\n",
        "    print(hit.page.url)\n",
        "    print(hit.page.date)"
      ]
    },
    {
      "cell_type": "markdown",
      "metadata": {
        "id": "rsJ3QKNgEKDU"
      },
      "source": [
        "Results can present TAG information with extra information about the domain"
      ]
    },
    {
      "cell_type": "code",
      "execution_count": null,
      "metadata": {
        "colab": {
          "base_uri": "https://localhost:8080/"
        },
        "id": "XLuHK9ndDu2g",
        "outputId": "e32835b3-a842-4775-b387-0490f8e0bd34"
      },
      "outputs": [
        {
          "name": "stdout",
          "output_type": "stream",
          "text": [
            "cccs:malware-category:\"ransomware\"\n",
            "dark-web:topic:\"ransomware-group\"\n",
            ":threat-actor:\"lockbit\"\n",
            ":content-category:\"ransomware\"\n",
            "63e471bfea718bf4556d0607\n"
          ]
        }
      ],
      "source": [
        "for tag in hit.tag:\n",
        "    print(tag)\n",
        "for hit in result.hits:\n",
        "  print(hit.page.id)"
      ]
    },
    {
      "cell_type": "markdown",
      "metadata": {
        "id": "eqBz9CJoGEF-"
      },
      "source": [
        "## Pagination\n",
        "Popular or generic searches can produce thousands of results. By default all searches will return 10 results."
      ]
    },
    {
      "cell_type": "code",
      "execution_count": null,
      "metadata": {
        "colab": {
          "base_uri": "https://localhost:8080/"
        },
        "id": "C6OykcMdEt3v",
        "outputId": "f13a0469-b7ce-4e0f-d70f-a5034625a2a5"
      },
      "outputs": [
        {
          "name": "stdout",
          "output_type": "stream",
          "text": [
            "Total of results:2487\n",
            "HCI.EDU | CL0P^_- LEAKS\n",
            "protocol='http' domain='santat7kpllt6iyvqbr7q4amdv6dzrh6paatvyrzl7ry3zm72zigf4ad.onion' port=80 path='/archive5/hci-edu' signature='83ba6adf-c2ee-53ff-8382-6ea0bdc0fe88' network=<Network.tor: 'tor'>\n",
            "STORAFILE.CO.UK | CL0P^_- LEAKS\n",
            "protocol='http' domain='santat7kpllt6iyvqbr7q4amdv6dzrh6paatvyrzl7ry3zm72zigf4ad.onion' port=80 path='/archive2/storafile-co-uk' signature='f3014a4c-45da-5d72-8f2f-26607f7b2e28' network=<Network.tor: 'tor'>\n",
            "KLEINBERGLANGE.COM | CL0P^_- LEAKS\n",
            "protocol='http' domain='santat7kpllt6iyvqbr7q4amdv6dzrh6paatvyrzl7ry3zm72zigf4ad.onion' port=80 path='/archive2/kleinberglange-com' signature='af1718aa-ff37-53da-864e-8d0f9ac43403' network=<Network.tor: 'tor'>\n",
            "WDMANOR.COM | CL0P^_- LEAKS\n",
            "protocol='http' domain='santat7kpllt6iyvqbr7q4amdv6dzrh6paatvyrzl7ry3zm72zigf4ad.onion' port=80 path='/archive2/wdmanor-com' signature='8f0c2adc-6465-5a71-846e-733138e9b9bd' network=<Network.tor: 'tor'>\n",
            "MMALTZAN.COM | CL0P^_- LEAKS\n",
            "protocol='http' domain='santat7kpllt6iyvqbr7q4amdv6dzrh6paatvyrzl7ry3zm72zigf4ad.onion' port=80 path='/archive2/mmaltzan-com' signature='97401146-ef3a-5ac1-901e-d81158b0e7dd' network=<Network.tor: 'tor'>\n",
            "PARAGONGRI.COM | CL0P^_- LEAKS\n",
            "protocol='http' domain='santat7kpllt6iyvqbr7q4amdv6dzrh6paatvyrzl7ry3zm72zigf4ad.onion' port=80 path='/archive2/paragongri-com' signature='5f006929-c53e-5566-abdb-62a6f54e19a7' network=<Network.tor: 'tor'>\n",
            "PENBENS.COM | CL0P^_- LEAKS\n",
            "protocol='http' domain='santat7kpllt6iyvqbr7q4amdv6dzrh6paatvyrzl7ry3zm72zigf4ad.onion' port=80 path='/archive2/penbens-com' signature='06f10f43-4118-5061-b757-5db66885db8d' network=<Network.tor: 'tor'>\n",
            "GOABCO.COM | CL0P^_- LEAKS\n",
            "protocol='http' domain='santat7kpllt6iyvqbr7q4amdv6dzrh6paatvyrzl7ry3zm72zigf4ad.onion' port=80 path='/archive2/goabco-com' signature='fe3f3fd0-e3a3-582d-a089-1f1a22f474c8' network=<Network.tor: 'tor'>\n",
            "ZUCCHETTIKOS.IT | CL0P^_- LEAKS\n",
            "protocol='http' domain='santat7kpllt6iyvqbr7q4amdv6dzrh6paatvyrzl7ry3zm72zigf4ad.onion' port=80 path='/archive2/zucchettikos-it' signature='9a1de73c-765d-5c32-a0d1-fba7880eefdd' network=<Network.tor: 'tor'>\n",
            "RMICO.COM | CL0P^_- LEAKS\n",
            "protocol='http' domain='santat7kpllt6iyvqbr7q4amdv6dzrh6paatvyrzl7ry3zm72zigf4ad.onion' port=80 path='/archive2/rmico-com' signature='7d524b2e-4faf-52bd-a313-16326da34ce9' network=<Network.tor: 'tor'>\n"
          ]
        }
      ],
      "source": [
        "result = c.search(\"Cl0p\")\n",
        "\n",
        "print(\"Total of results:\" + str(result.total))\n",
        "\n",
        "for hit in result.hits:\n",
        "    print(hit.page.title)\n",
        "    print(hit.page.url)"
      ]
    },
    {
      "cell_type": "markdown",
      "metadata": {
        "id": "ysTrP2ITGQzN"
      },
      "source": [
        "These resultes can be paginated using the page parameter."
      ]
    },
    {
      "cell_type": "code",
      "execution_count": null,
      "metadata": {
        "colab": {
          "base_uri": "https://localhost:8080/"
        },
        "id": "lJB4noM7GA7y",
        "outputId": "9905a094-4ef3-4a3c-af48-6bd9334aeb49"
      },
      "outputs": [
        {
          "name": "stdout",
          "output_type": "stream",
          "text": [
            "VALLEYTRUCKANDTRACTOR.COM | CL0P^_- LEAKS\n",
            "protocol='http' domain='santat7kpllt6iyvqbr7q4amdv6dzrh6paatvyrzl7ry3zm72zigf4ad.onion' port=80 path='/archive2/valley-truck-and-tractor' signature='11a3040d-696a-5fc8-96cb-5dec6fcda4c5' network=<Network.tor: 'tor'>\n",
            "KSSARCHITECTS.COM | CL0P^_- LEAKS\n",
            "protocol='http' domain='santat7kpllt6iyvqbr7q4amdv6dzrh6paatvyrzl7ry3zm72zigf4ad.onion' port=80 path='/archive2/kss-architects-llp' signature='2a1b5c30-4294-5fc7-ac63-835c73550a6a' network=<Network.tor: 'tor'>\n",
            "NFT.CO.UK | CL0P^_- LEAKS\n",
            "protocol='http' domain='santat7kpllt6iyvqbr7q4amdv6dzrh6paatvyrzl7ry3zm72zigf4ad.onion' port=80 path='/archive2/nft-co-uk' signature='5828e83f-c3fa-50af-aa02-5e29688565ca' network=<Network.tor: 'tor'>\n",
            "PLANATOL.DE | CL0P^_- LEAKS\n",
            "protocol='http' domain='santat7kpllt6iyvqbr7q4amdv6dzrh6paatvyrzl7ry3zm72zigf4ad.onion' port=80 path='/archive/planatol-de' signature='6158cacb-9875-5c49-bc2b-53fd7961a02f' network=<Network.tor: 'tor'>\n",
            "Trusted Links | Markets & Providers & Services & ...\n",
            "protocol='http' domain='5o4s6gxvrxpojeltpx4gkprws5dnlaw3vpqny6xh5hyfn6n74ywbfjyd.onion' port=80 path='' signature='ce143896-55e0-5244-a665-373e0e6641da' network=<Network.tor: 'tor'>\n",
            "360EQUIPMENTFINANCE.COM | CL0P^_- LEAKS\n",
            "protocol='http' domain='santat7kpllt6iyvqbr7q4amdv6dzrh6paatvyrzl7ry3zm72zigf4ad.onion' port=80 path='/360equipmentfinance-com' signature='517c2c28-9382-5fcb-a399-2ee792f1bdf9' network=<Network.tor: 'tor'>\n",
            "PRECISIONMEDICALBILLING.NET | CL0P^_- LEAKS\n",
            "protocol='http' domain='santat7kpllt6iyvqbr7q4amdv6dzrh6paatvyrzl7ry3zm72zigf4ad.onion' port=80 path='/precisionmedicalbilling-net' signature='f4f82c08-0381-5f10-ae54-db0bd4cb2439' network=<Network.tor: 'tor'>\n",
            "Ransomware Group Sites\n",
            "protocol='http' domain='ransomwr3tsydeii4q43vazm7wofla5ujdajquitomtd47cxjtfgwyyd.onion' port=80 path='/' signature='06733426-56d0-50ed-850d-34d56d9139e0' network=<Network.tor: 'tor'>\n",
            "Links | HST\n",
            "protocol='http' domain='q3o3hdjbf6vwxdnpskyhxw7w7rnmnfhz2szbuala4q24x6csbp7adiad.onion' port=80 path='/links' signature='3bdd83fa-584b-526d-85e7-e0ade1770846' network=<Network.tor: 'tor'>\n",
            "Links | HST\n",
            "protocol='http' domain='q3o3hdjbf6vwxdnpskyhxw7w7rnmnfhz2szbuala4q24x6csbp7adiad.onion' port=80 path='/links' signature='3bdd83fa-584b-526d-85e7-e0ade1770846' network=<Network.tor: 'tor'>\n"
          ]
        }
      ],
      "source": [
        "result = c.search(\"Cl0p\", page=2)\n",
        "for hit in result.hits:\n",
        "    print(hit.page.title)\n",
        "    print(hit.page.url)"
      ]
    },
    {
      "cell_type": "markdown",
      "metadata": {
        "id": "IP7tvdF5Ksj-"
      },
      "source": [
        "## Email search"
      ]
    },
    {
      "cell_type": "code",
      "execution_count": null,
      "metadata": {
        "colab": {
          "base_uri": "https://localhost:8080/"
        },
        "id": "_HB0cvkgKnuX",
        "outputId": "910933e1-191d-4279-e094-e350e67a5738"
      },
      "outputs": [
        {
          "name": "stdout",
          "output_type": "stream",
          "text": [
            "Business Tagged Posts - AnonBlogs\n",
            "anonblogd4pcarck2ff6qlseyawjljaatp6wjq6rqpet2wfuoom42kyd.onion/tag/business\n",
            "Dark Web Business  Tagged Posts - AnonBlogs\n",
            "anonblogd4pcarck2ff6qlseyawjljaatp6wjq6rqpet2wfuoom42kyd.onion/tag/dark-web-business-\n",
            "Dark Web Business Tagged Posts - AnonBlogs\n",
            "anonblogd4pcarck2ff6qlseyawjljaatp6wjq6rqpet2wfuoom42kyd.onion/tag/dark-web-business\n",
            "Business Tagged Posts - AnonBlogs\n",
            "anonblogd4pcarck2ff6qlseyawjljaatp6wjq6rqpet2wfuoom42kyd.onion/tag/business\n",
            "Dark Web Business  Tagged Posts - AnonBlogs\n",
            "anonblogd4pcarck2ff6qlseyawjljaatp6wjq6rqpet2wfuoom42kyd.onion/tag/dark-web-business-\n",
            "Dark Web Business Tagged Posts - AnonBlogs\n",
            "anonblogd4pcarck2ff6qlseyawjljaatp6wjq6rqpet2wfuoom42kyd.onion/tag/dark-web-business\n",
            "Dark Web Business  Tagged Posts - AnonBlogs\n",
            "anonblogd4pcarck2ff6qlseyawjljaatp6wjq6rqpet2wfuoom42kyd.onion/tag/dark-web-business-\n",
            "Business Tagged Posts - AnonBlogs\n",
            "anonblogd4pcarck2ff6qlseyawjljaatp6wjq6rqpet2wfuoom42kyd.onion/tag/business\n",
            "Dark Web Business Tagged Posts - AnonBlogs\n",
            "anonblogd4pcarck2ff6qlseyawjljaatp6wjq6rqpet2wfuoom42kyd.onion/tag/dark-web-business\n",
            "Dark Web Business  Tagged Posts - AnonBlogs\n",
            "anonblogd4pcarck2ff6qlseyawjljaatp6wjq6rqpet2wfuoom42kyd.onion/tag/dark-web-business-\n"
          ]
        }
      ],
      "source": [
        "result = c.find_email(\"someonedeep@dnmx.org\")\n",
        "\n",
        "for hit in result.hits:\n",
        "    print(hit.page.title)\n",
        "    print(hit.page.url.domain + hit.page.url.path)"
      ]
    },
    {
      "cell_type": "markdown",
      "metadata": {
        "id": "hruDwvmLI-lL"
      },
      "source": [
        "## Digital Assets Search\n",
        "You can search BTC, ETH, DOT, XRP, XMR and ZEC cryptocurrency wallets."
      ]
    },
    {
      "cell_type": "code",
      "execution_count": null,
      "metadata": {
        "colab": {
          "base_uri": "https://localhost:8080/"
        },
        "id": "WIIOWk_IJGFr",
        "outputId": "8cdbe788-d23b-4d81-a284-78dde112a2f1"
      },
      "outputs": [
        {
          "name": "stdout",
          "output_type": "stream",
          "text": [
            "62d5aee6417ebf36864db58f\n",
            "Billing\n",
            "megapack35mc54kkhuxnyl6itmsr2ionxhz4ibxzedqrau3uuwozgaad.onion/buy-trial/\n",
            "2022-07-19 00:39:08.740958\n",
            "62d5aee6417ebf36864db596\n",
            "Billing\n",
            "megapack35mc54kkhuxnyl6itmsr2ionxhz4ibxzedqrau3uuwozgaad.onion/buy-trial/\n",
            "2022-07-18 19:05:10.661360\n"
          ]
        }
      ],
      "source": [
        "result = c.find_btc(\"114qvtyucvKtiNXy9UL3eYx6HPYmadxeM4\")\n",
        "\n",
        "for hit in result.hits:\n",
        "    print(hit.page.id)\n",
        "    print(hit.page.title)\n",
        "    print(hit.page.url.domain + hit.page.url.path)\n",
        "    print(hit.page.date)"
      ]
    },
    {
      "cell_type": "code",
      "execution_count": null,
      "metadata": {
        "colab": {
          "base_uri": "https://localhost:8080/"
        },
        "id": "AlnLlacuLzEm",
        "outputId": "f1f92f66-1af8-47b0-b545-b1f47b072b40"
      },
      "outputs": [
        {
          "name": "stdout",
          "output_type": "stream",
          "text": [
            "Billing\n",
            "2022-07-19 00:39:08.740958\n"
          ]
        }
      ],
      "source": [
        "result = c.get_document(\"62d5aee6417ebf36864db58f\")\n",
        "\n",
        "print(result.hits[0].page.title)\n",
        "print(result.hits[0].page.date)"
      ]
    },
    {
      "cell_type": "code",
      "execution_count": null,
      "metadata": {
        "colab": {
          "base_uri": "https://localhost:8080/"
        },
        "id": "W5QRhqVSMPGG",
        "outputId": "c8a242ba-4f31-426e-b4d6-97925406b13a"
      },
      "outputs": [
        {
          "name": "stdout",
          "output_type": "stream",
          "text": [
            "Looking in indexes: https://pypi.org/simple, https://us-python.pkg.dev/colab-wheels/public/simple/\n",
            "Requirement already satisfied: beautifulsoup4 in /usr/local/lib/python3.10/dist-packages (4.11.2)\n",
            "Requirement already satisfied: soupsieve>1.2 in /usr/local/lib/python3.10/dist-packages (from beautifulsoup4) (2.4.1)\n"
          ]
        }
      ],
      "source": [
        "pip install beautifulsoup4"
      ]
    },
    {
      "cell_type": "code",
      "execution_count": null,
      "metadata": {
        "colab": {
          "base_uri": "https://localhost:8080/"
        },
        "id": "OO3rWxzzlCCV",
        "outputId": "97473b2e-341a-475c-ab32-8b1510acf879"
      },
      "outputs": [
        {
          "name": "stdout",
          "output_type": "stream",
          "text": [
            "Billing× ERROR! JavaScript is disabled. This site will not work properly without it.1 Day Trial AccessOrder #126522:Complete Bitcoin transfer to get 1 Day Trial Access.The bitcoin address has been generated for this transaction only.After transaction is complete this given bitcoin address will be your username for access.Do not lose your bitcoin address & access token! There is no way to restore. We ask no information from you for security reasons. BTC XMR0.00044270 BTC / 0.4427 mBTC ($10.00) to:Your access token is: 338298487.IMPORTANT! Store this access token safely. Once the order is completed use this for an access to the membership zone.Recap:Pay to address provided.Wait for 1 confirmation on blockchain.Login to Trial Area (save this link for easy login) with following:Username:Password:338298487IMPORTANT!Wait at least 5 minutes after your payment received 1 blockchain confirmation before login. Be patient. This is how it works when the service is real. Access countdown begins after your login is activated. Not after your payment has been detected!Order Status:Status:Waiting for a paymentCreated on:2022/07/19 00:39:02 CDTBTC total:0.0004427BTC received:0BTC remaining:0.0004427Checked on:\n"
          ]
        }
      ],
      "source": [
        "from bs4 import BeautifulSoup\n",
        "soup = BeautifulSoup(result.hits[0].page.html)\n",
        "text = soup.get_text()\n",
        "print(text.strip())"
      ]
    },
    {
      "cell_type": "code",
      "execution_count": null,
      "metadata": {
        "colab": {
          "base_uri": "https://localhost:8080/"
        },
        "id": "KcYgNWmBJxjr",
        "outputId": "1634c85a-fcef-4575-bc9b-d8596ea0a7c1"
      },
      "outputs": [
        {
          "name": "stdout",
          "output_type": "stream",
          "text": [
            "Total of results:565\n",
            "continewsnv5otx5kaoje7krkto2qbu3gtqef22mnr7eaxw3y6ncz3ad.onion/page/3\n",
            "continewsnv5otx5kaoje7krkto2qbu3gtqef22mnr7eaxw3y6ncz3ad.onion/page/5\n",
            "continewsnv5otx5kaoje7krkto2qbu3gtqef22mnr7eaxw3y6ncz3ad.onion/page/6\n",
            "continewsnv5otx5kaoje7krkto2qbu3gtqef22mnr7eaxw3y6ncz3ad.onion/page/89\n",
            "continewsnv5otx5kaoje7krkto2qbu3gtqef22mnr7eaxw3y6ncz3ad.onion/page/4\n",
            "continewsnv5otx5kaoje7krkto2qbu3gtqef22mnr7eaxw3y6ncz3ad.onion/page/1\n",
            "continewsnv5otx5kaoje7krkto2qbu3gtqef22mnr7eaxw3y6ncz3ad.onion/page/8\n",
            "continewsnv5otx5kaoje7krkto2qbu3gtqef22mnr7eaxw3y6ncz3ad.onion/page/9\n",
            "continewsnv5otx5kaoje7krkto2qbu3gtqef22mnr7eaxw3y6ncz3ad.onion/page/7\n",
            "continewsnv5otx5kaoje7krkto2qbu3gtqef22mnr7eaxw3y6ncz3ad.onion/page/2\n"
          ]
        }
      ],
      "source": [
        "result = c.find_url(\"continewsnv5otx5kaoje7krkto2qbu3gtqef22mnr7eaxw3y6ncz3ad.onion\", page=1)\n",
        "\n",
        "print(\"Total of results:\" + str(result.total))\n",
        "for hit in result.hits:\n",
        "    # print(hit.page.id)\n",
        "    print(hit.page.url.domain + hit.page.url.path)\n",
        "    # print(hit.page.date)"
      ]
    },
    {
      "cell_type": "code",
      "execution_count": null,
      "metadata": {
        "colab": {
          "base_uri": "https://localhost:8080/"
        },
        "id": "3UUJ-_wJCkpI",
        "outputId": "e3812140-549e-4e03-b95d-f9ecfcfdac7d"
      },
      "outputs": [
        {
          "name": "stdout",
          "output_type": "stream",
          "text": [
            "Total of results:46\n",
            "continewsnv5otx5kaoje7krkto2qbu3gtqef22mnr7eaxw3y6ncz3ad.onion/page/3\n",
            "\\n\\nAML operates between Morocco and <b>Spain</b> offering up to 8 sailings per day  from the port of Tanger\n",
            "continewsnv5otx5kaoje7krkto2qbu3gtqef22mnr7eaxw3y6ncz3ad.onion/page/3\n",
            "\\n\\nAML operates between Morocco and <b>Spain</b> offering up to 8 sailings per day  from the port of Tanger\n",
            "continewsnv5otx5kaoje7krkto2qbu3gtqef22mnr7eaxw3y6ncz3ad.onion/page/10\n",
            "\",\"about\":\"OCA Global is a private business group \\u2013with headquarters in <b>Spain</b>\\u2013, dedicated to\n",
            "continewsnv5otx5kaoje7krkto2qbu3gtqef22mnr7eaxw3y6ncz3ad.onion/page/3\n",
            "\\n\\nAML operates between Morocco and <b>Spain</b> offering up to 8 sailings per day  from the port of Tanger\n",
            "continewsnv5otx5kaoje7krkto2qbu3gtqef22mnr7eaxw3y6ncz3ad.onion/page/3\n",
            "\\n\\nAML operates between Morocco and <b>Spain</b> offering up to 8 sailings per day  from the port of Tanger\n",
            "continewsnv5otx5kaoje7krkto2qbu3gtqef22mnr7eaxw3y6ncz3ad.onion/page/10\n",
            "\",\"about\":\"OCA Global is a private business group \\u2013with headquarters in <b>Spain</b>\\u2013, dedicated to\n",
            "continewsnv5otx5kaoje7krkto2qbu3gtqef22mnr7eaxw3y6ncz3ad.onion/page/3\n",
            "\\n\\nAML operates between Morocco and <b>Spain</b> offering up to 8 sailings per day  from the port of Tanger\n",
            "continewsnv5otx5kaoje7krkto2qbu3gtqef22mnr7eaxw3y6ncz3ad.onion/page/10\n",
            "\",\"about\":\"OCA Global is a private business group \\u2013with headquarters in <b>Spain</b>\\u2013, dedicated to\n",
            "continewsnv5otx5kaoje7krkto2qbu3gtqef22mnr7eaxw3y6ncz3ad.onion/page/10\n",
            "\",\"about\":\"OCA Global is a private business group \\u2013with headquarters in <b>Spain</b>\\u2013, dedicated to\n",
            "continewsnv5otx5kaoje7krkto2qbu3gtqef22mnr7eaxw3y6ncz3ad.onion/page/3\n",
            "\\n\\nAML operates between Morocco and <b>Spain</b> offering up to 8 sailings per day  from the port of Tanger\n"
          ]
        }
      ],
      "source": [
        "result = c.search(\"site:continewsnv5otx5kaoje7krkto2qbu3gtqef22mnr7eaxw3y6ncz3ad.onion spain\", page=1)\n",
        "\n",
        "print(\"Total of results:\" + str(result.total))\n",
        "for hit in result.hits:\n",
        "    # print(hit.page.id)\n",
        "    print(hit.page.url.domain + hit.page.url.path)\n",
        "    print(hit.page.html)"
      ]
    },
    {
      "cell_type": "markdown",
      "metadata": {
        "id": "qYqCIOPlG-_3"
      },
      "source": [
        "## Advance search\n",
        "Complex searches can be done filtering by language using [ISO 2 Letter Language Codes](https://en.wikipedia.org/wiki/List_of_ISO_639-1_codes).\n",
        "The parameter exact will force to only show pages that contain those exact words or phrases. By default this parameter is set to False, mimicking a google like search.\n"
      ]
    },
    {
      "cell_type": "code",
      "execution_count": null,
      "metadata": {
        "id": "BbznKBhJGb8Z"
      },
      "outputs": [],
      "source": [
        "result = c.search(\"guardia civil\", exact=True, language=\"es\")\n",
        "for hit in result.hits:\n",
        "    print(hit.page.title)\n",
        "    print(hit.page.url.domain + hit.page.url.path)"
      ]
    },
    {
      "cell_type": "markdown",
      "metadata": {
        "id": "Rv9WV52ZH-j2"
      },
      "source": [
        "## Date and network filtering"
      ]
    },
    {
      "cell_type": "code",
      "execution_count": null,
      "metadata": {
        "id": "s2p7tNbsIF-5"
      },
      "outputs": [],
      "source": [
        "from datetime import date\n",
        "\n",
        "today = date.today()\n",
        "\n",
        "result = c.search(\"guardia civil\", exact=True, lte=today, network=\"tor\")\n",
        "for hit in result.hits:\n",
        "    print(hit.page.title)\n",
        "    print(hit.page.url.domain + hit.page.url.path)\n",
        "    print(hit.page.date)"
      ]
    },
    {
      "cell_type": "markdown",
      "metadata": {
        "id": "09NLqnGSl3la"
      },
      "source": [
        "# IP/Fuzzy search\n"
      ]
    },
    {
      "cell_type": "markdown",
      "metadata": {
        "id": "1FXFwFMumi8Q"
      },
      "source": [
        "IPs are usually present as"
      ]
    },
    {
      "cell_type": "code",
      "execution_count": null,
      "metadata": {
        "id": "9YT-azcefcR3"
      },
      "outputs": [],
      "source": [
        "result = c.fuzzy_search(\"172.67.1.613\")\n",
        "for hit in result.hits:\n",
        "    print(hit.page.title)\n",
        "    print(hit.page.html)\n",
        "    print(hit.page.url.domain + hit.page.url.path)\n",
        "    print(hit.page.date)"
      ]
    }
  ],
  "metadata": {
    "colab": {
      "provenance": [],
      "toc_visible": true
    },
    "kernelspec": {
      "display_name": "Python 3",
      "name": "python3"
    },
    "language_info": {
      "name": "python"
    }
  },
  "nbformat": 4,
  "nbformat_minor": 0
}
